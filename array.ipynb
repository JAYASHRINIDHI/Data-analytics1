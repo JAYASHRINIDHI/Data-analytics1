{
  "nbformat": 4,
  "nbformat_minor": 0,
  "metadata": {
    "colab": {
      "name": "array.ipynb",
      "provenance": [],
      "collapsed_sections": []
    },
    "kernelspec": {
      "name": "python3",
      "display_name": "Python 3"
    },
    "language_info": {
      "name": "python"
    }
  },
  "cells": [
    {
      "cell_type": "code",
      "execution_count": 746,
      "metadata": {
        "colab": {
          "base_uri": "https://localhost:8080/"
        },
        "id": "Jl_VmUExjtmM",
        "outputId": "e2a118cb-a1b3-4108-e617-4a8bbb0f570e"
      },
      "outputs": [
        {
          "output_type": "stream",
          "name": "stdout",
          "text": [
            "[1 2 3]\n"
          ]
        }
      ],
      "source": [
        "import numpy as np\n",
        "arr=np.array([1,2,3])\n",
        "print(arr)\n"
      ]
    },
    {
      "cell_type": "code",
      "source": [
        "arr[2]"
      ],
      "metadata": {
        "colab": {
          "base_uri": "https://localhost:8080/"
        },
        "id": "-ysZGjMFjvMi",
        "outputId": "43ae223c-8314-4365-ccba-afd2570e8757"
      },
      "execution_count": 747,
      "outputs": [
        {
          "output_type": "execute_result",
          "data": {
            "text/plain": [
              "3"
            ]
          },
          "metadata": {},
          "execution_count": 747
        }
      ]
    },
    {
      "cell_type": "code",
      "source": [
        "arr[2]=5\n",
        "arr"
      ],
      "metadata": {
        "colab": {
          "base_uri": "https://localhost:8080/"
        },
        "id": "wSzTqG0MjvUR",
        "outputId": "00ef061b-4e35-4d67-b5a7-6488c14f7eeb"
      },
      "execution_count": 748,
      "outputs": [
        {
          "output_type": "execute_result",
          "data": {
            "text/plain": [
              "array([1, 2, 5])"
            ]
          },
          "metadata": {},
          "execution_count": 748
        }
      ]
    },
    {
      "cell_type": "code",
      "source": [
        "#2d array\n",
        "arr2=np.array([[1,2,3],[4,5,6]])\n",
        "print(arr2)"
      ],
      "metadata": {
        "colab": {
          "base_uri": "https://localhost:8080/"
        },
        "id": "GIN4ysqLjvW5",
        "outputId": "64644849-30d0-4e40-c365-016bcbb99931"
      },
      "execution_count": 749,
      "outputs": [
        {
          "output_type": "stream",
          "name": "stdout",
          "text": [
            "[[1 2 3]\n",
            " [4 5 6]]\n"
          ]
        }
      ]
    },
    {
      "cell_type": "code",
      "source": [
        "#checking the shape of the array\n",
        "print(\"the shape  is 2 rows and 3 columns:\",arr2.shape)"
      ],
      "metadata": {
        "colab": {
          "base_uri": "https://localhost:8080/"
        },
        "id": "z6BiCTMojvYx",
        "outputId": "54a904fc-6e21-4c21-9284-aaffd53f292b"
      },
      "execution_count": 750,
      "outputs": [
        {
          "output_type": "stream",
          "name": "stdout",
          "text": [
            "the shape  is 2 rows and 3 columns: (2, 3)\n"
          ]
        }
      ]
    },
    {
      "cell_type": "code",
      "source": [
        "#accessing elements from the array\n",
        "print(arr2[0][2])\n",
        "print(arr2[0,2])\n",
        "print(arr2[0,-1])\n",
        "print(arr2[-1,0])"
      ],
      "metadata": {
        "colab": {
          "base_uri": "https://localhost:8080/"
        },
        "id": "fzmrJ6W-jva5",
        "outputId": "201d27cc-9d87-499e-915c-a911cab003c7"
      },
      "execution_count": 751,
      "outputs": [
        {
          "output_type": "stream",
          "name": "stdout",
          "text": [
            "3\n",
            "3\n",
            "3\n",
            "4\n"
          ]
        }
      ]
    },
    {
      "cell_type": "code",
      "source": [
        "#array of type string\n",
        "arr3=np.array(['india','china','usa','mexico'])\n",
        "print(arr3)"
      ],
      "metadata": {
        "colab": {
          "base_uri": "https://localhost:8080/"
        },
        "id": "e1hlU3dBmiiZ",
        "outputId": "baa61ae2-5989-48ab-c323-e33d563bc88a"
      },
      "execution_count": 752,
      "outputs": [
        {
          "output_type": "stream",
          "name": "stdout",
          "text": [
            "['india' 'china' 'usa' 'mexico']\n"
          ]
        }
      ]
    },
    {
      "cell_type": "code",
      "source": [
        "print(arr3[1])"
      ],
      "metadata": {
        "colab": {
          "base_uri": "https://localhost:8080/"
        },
        "id": "uRWZyjLCmiqR",
        "outputId": "4887a63a-b374-4a6b-eb82-5559831680f2"
      },
      "execution_count": 753,
      "outputs": [
        {
          "output_type": "stream",
          "name": "stdout",
          "text": [
            "china\n"
          ]
        }
      ]
    },
    {
      "cell_type": "code",
      "source": [
        "arr=np.arange(1,30,3)\n",
        "print(arr)"
      ],
      "metadata": {
        "colab": {
          "base_uri": "https://localhost:8080/"
        },
        "id": "rou3h-3WnMPt",
        "outputId": "5100521e-a061-4aa9-9e77-78f00c96bd29"
      },
      "execution_count": 754,
      "outputs": [
        {
          "output_type": "stream",
          "name": "stdout",
          "text": [
            "[ 1  4  7 10 13 16 19 22 25 28]\n"
          ]
        }
      ]
    },
    {
      "cell_type": "code",
      "source": [
        "arr=np.linspace(0,10,30)\n",
        "print(arr)"
      ],
      "metadata": {
        "colab": {
          "base_uri": "https://localhost:8080/"
        },
        "id": "3TymaNGGmisZ",
        "outputId": "ca9c52e2-d7cc-4f3e-d4b4-97075f051250"
      },
      "execution_count": 755,
      "outputs": [
        {
          "output_type": "stream",
          "name": "stdout",
          "text": [
            "[ 0.          0.34482759  0.68965517  1.03448276  1.37931034  1.72413793\n",
            "  2.06896552  2.4137931   2.75862069  3.10344828  3.44827586  3.79310345\n",
            "  4.13793103  4.48275862  4.82758621  5.17241379  5.51724138  5.86206897\n",
            "  6.20689655  6.55172414  6.89655172  7.24137931  7.5862069   7.93103448\n",
            "  8.27586207  8.62068966  8.96551724  9.31034483  9.65517241 10.        ]\n"
          ]
        }
      ]
    },
    {
      "cell_type": "code",
      "source": [
        "#array of random values between 0 and 1 in a given shape\n",
        "arr=np.random.rand(10)\n",
        "print(arr)\n",
        "print('\\n')\n",
        "arr=np.random.rand(3,4)\n",
        "print(arr)\n"
      ],
      "metadata": {
        "colab": {
          "base_uri": "https://localhost:8080/"
        },
        "id": "fUgqypoZmiuQ",
        "outputId": "e4489761-a6f0-412c-8219-d44bf8f2d623"
      },
      "execution_count": 756,
      "outputs": [
        {
          "output_type": "stream",
          "name": "stdout",
          "text": [
            "[0.99740587 0.8803344  0.1871582  0.18230824 0.63160205 0.45269015\n",
            " 0.78081756 0.96127855 0.4659841  0.08694603]\n",
            "\n",
            "\n",
            "[[0.41063966 0.04220497 0.84411055 0.23869533]\n",
            " [0.66999513 0.72517175 0.17258311 0.04007392]\n",
            " [0.67744895 0.81574651 0.39582414 0.2054643 ]]\n"
          ]
        }
      ]
    },
    {
      "cell_type": "code",
      "source": [
        "#creating array with given values\n",
        "print(np.full((5,6),20))"
      ],
      "metadata": {
        "colab": {
          "base_uri": "https://localhost:8080/"
        },
        "id": "0HjjxUehmiwD",
        "outputId": "e68d5afd-db7c-4059-940b-61e47068bb96"
      },
      "execution_count": 757,
      "outputs": [
        {
          "output_type": "stream",
          "name": "stdout",
          "text": [
            "[[20 20 20 20 20 20]\n",
            " [20 20 20 20 20 20]\n",
            " [20 20 20 20 20 20]\n",
            " [20 20 20 20 20 20]\n",
            " [20 20 20 20 20 20]]\n"
          ]
        }
      ]
    },
    {
      "cell_type": "code",
      "source": [
        "#repeating array elements\n",
        "arr=[0,1,2]\n",
        "print(np.repeat(arr,3))"
      ],
      "metadata": {
        "colab": {
          "base_uri": "https://localhost:8080/"
        },
        "id": "9r9yeHj5mixw",
        "outputId": "e4795e5e-6858-49df-985d-6cfc4535b361"
      },
      "execution_count": 758,
      "outputs": [
        {
          "output_type": "stream",
          "name": "stdout",
          "text": [
            "[0 0 0 1 1 1 2 2 2]\n"
          ]
        }
      ]
    },
    {
      "cell_type": "code",
      "source": [
        "#repeat array number of times\n",
        "arr=[1,2,3]\n",
        "print(np.tile(arr,4))"
      ],
      "metadata": {
        "colab": {
          "base_uri": "https://localhost:8080/"
        },
        "id": "BP4ZH-hRmizQ",
        "outputId": "7757eaf5-b3c9-4c3e-d432-57bc4fc77604"
      },
      "execution_count": 759,
      "outputs": [
        {
          "output_type": "stream",
          "name": "stdout",
          "text": [
            "[1 2 3 1 2 3 1 2 3 1 2 3]\n"
          ]
        }
      ]
    },
    {
      "cell_type": "code",
      "source": [
        "#creating identity matrix with eye\n",
        "identity_matrix=np.eye(3)\n",
        "print(identity_matrix)"
      ],
      "metadata": {
        "colab": {
          "base_uri": "https://localhost:8080/"
        },
        "id": "GnEuv4NJmi1B",
        "outputId": "84ef1c47-dafa-4dc8-a509-569430b15a7e"
      },
      "execution_count": 760,
      "outputs": [
        {
          "output_type": "stream",
          "name": "stdout",
          "text": [
            "[[1. 0. 0.]\n",
            " [0. 1. 0.]\n",
            " [0. 0. 1.]]\n"
          ]
        }
      ]
    },
    {
      "cell_type": "code",
      "source": [
        "#creating identity matrix with identity\n",
        "identity_matrix=np.identity(3)\n",
        "print(identity_matrix)"
      ],
      "metadata": {
        "colab": {
          "base_uri": "https://localhost:8080/"
        },
        "id": "2_Boo-Ctsc66",
        "outputId": "8846db8e-6c95-46b2-8c1f-dc68470f77c3"
      },
      "execution_count": 761,
      "outputs": [
        {
          "output_type": "stream",
          "name": "stdout",
          "text": [
            "[[1. 0. 0.]\n",
            " [0. 1. 0.]\n",
            " [0. 0. 1.]]\n"
          ]
        }
      ]
    },
    {
      "cell_type": "code",
      "source": [
        "#5X5 array between 0 and 1\n",
        "arr=np.random.rand(5,5)\n",
        "print(arr)"
      ],
      "metadata": {
        "colab": {
          "base_uri": "https://localhost:8080/"
        },
        "id": "Y_LCgd6fmi4h",
        "outputId": "4be82bb3-a531-4679-b7fb-1ae6cf0ffabd"
      },
      "execution_count": 762,
      "outputs": [
        {
          "output_type": "stream",
          "name": "stdout",
          "text": [
            "[[0.16870396 0.40909239 0.15607824 0.63924376 0.45844991]\n",
            " [0.63262804 0.40580261 0.84564188 0.93031416 0.85511417]\n",
            " [0.16281476 0.54523852 0.53224631 0.56606629 0.57469664]\n",
            " [0.62508345 0.81623854 0.35578682 0.28997816 0.72991759]\n",
            " [0.50678288 0.58105663 0.0577445  0.08065451 0.58173203]]\n"
          ]
        }
      ]
    },
    {
      "cell_type": "code",
      "source": [
        "print(arr2)"
      ],
      "metadata": {
        "colab": {
          "base_uri": "https://localhost:8080/"
        },
        "id": "pm9DkqEbtitw",
        "outputId": "b028a7bb-7680-437c-a271-521f428f3ac7"
      },
      "execution_count": 763,
      "outputs": [
        {
          "output_type": "stream",
          "name": "stdout",
          "text": [
            "[[1 2 3]\n",
            " [4 5 6]]\n"
          ]
        }
      ]
    },
    {
      "cell_type": "code",
      "source": [
        "#sum along the column\n",
        "print(np.sum(arr2,axis=0))"
      ],
      "metadata": {
        "colab": {
          "base_uri": "https://localhost:8080/"
        },
        "id": "mzppVH18mi76",
        "outputId": "64fbcea3-486f-4031-bbb2-77f467e983cf"
      },
      "execution_count": 764,
      "outputs": [
        {
          "output_type": "stream",
          "name": "stdout",
          "text": [
            "[5 7 9]\n"
          ]
        }
      ]
    },
    {
      "cell_type": "code",
      "source": [
        "#sum along eow\n",
        "print(np.sum(arr2,axis=1))"
      ],
      "metadata": {
        "colab": {
          "base_uri": "https://localhost:8080/"
        },
        "id": "k4QlnHr1mi9g",
        "outputId": "7dad74a6-bcbc-4bab-c82a-81d679f19c1e"
      },
      "execution_count": 765,
      "outputs": [
        {
          "output_type": "stream",
          "name": "stdout",
          "text": [
            "[ 6 15]\n"
          ]
        }
      ]
    },
    {
      "cell_type": "code",
      "source": [
        "#calculating mean,median,sd and vaeience\n",
        "print(np.mean(arr2))\n",
        "print(np.median(arr2))\n",
        "print(np.std(arr2))\n",
        "print(np.var(arr2))"
      ],
      "metadata": {
        "colab": {
          "base_uri": "https://localhost:8080/"
        },
        "id": "ECz-z7NxuI2Z",
        "outputId": "12bd7701-dbb5-49c9-a542-a6dd77e3df8f"
      },
      "execution_count": 766,
      "outputs": [
        {
          "output_type": "stream",
          "name": "stdout",
          "text": [
            "3.5\n",
            "3.5\n",
            "1.707825127659933\n",
            "2.9166666666666665\n"
          ]
        }
      ]
    },
    {
      "cell_type": "code",
      "source": [
        "#sort an array\n",
        "arr=np.random.rand(5,5)\n",
        "print(arr)"
      ],
      "metadata": {
        "colab": {
          "base_uri": "https://localhost:8080/"
        },
        "id": "I46QnQFnuI5B",
        "outputId": "d4a39024-b06a-4f85-99ea-1d1dec5c6473"
      },
      "execution_count": 767,
      "outputs": [
        {
          "output_type": "stream",
          "name": "stdout",
          "text": [
            "[[0.37211805 0.68180408 0.51925944 0.93210923 0.69431776]\n",
            " [0.47918159 0.27730009 0.48791166 0.69198271 0.82360399]\n",
            " [0.50772752 0.15991595 0.56987887 0.65237459 0.11939475]\n",
            " [0.67032146 0.70443844 0.96728558 0.02766069 0.48635116]\n",
            " [0.32694804 0.62845026 0.88448724 0.27483527 0.04352613]]\n"
          ]
        }
      ]
    },
    {
      "cell_type": "code",
      "source": [
        "#sorting along the row\n",
        "print(np.sort(arr,axis=1))\n"
      ],
      "metadata": {
        "colab": {
          "base_uri": "https://localhost:8080/"
        },
        "id": "zZzPXnSwuI9Q",
        "outputId": "752e7768-af73-495a-d2fd-32598aff68c7"
      },
      "execution_count": 768,
      "outputs": [
        {
          "output_type": "stream",
          "name": "stdout",
          "text": [
            "[[0.37211805 0.51925944 0.68180408 0.69431776 0.93210923]\n",
            " [0.27730009 0.47918159 0.48791166 0.69198271 0.82360399]\n",
            " [0.11939475 0.15991595 0.50772752 0.56987887 0.65237459]\n",
            " [0.02766069 0.48635116 0.67032146 0.70443844 0.96728558]\n",
            " [0.04352613 0.27483527 0.32694804 0.62845026 0.88448724]]\n"
          ]
        }
      ]
    },
    {
      "cell_type": "code",
      "source": [
        "#appending the elements\n",
        "arr=np.array([3,4,5,6])\n",
        "arr1=np.append(arr,8)\n",
        "arr1"
      ],
      "metadata": {
        "colab": {
          "base_uri": "https://localhost:8080/"
        },
        "id": "6ZZqlQdmuJCz",
        "outputId": "e10269c6-d519-4ae8-d8b6-b0794a9a4c9b"
      },
      "execution_count": 769,
      "outputs": [
        {
          "output_type": "execute_result",
          "data": {
            "text/plain": [
              "array([3, 4, 5, 6, 8])"
            ]
          },
          "metadata": {},
          "execution_count": 769
        }
      ]
    },
    {
      "cell_type": "code",
      "source": [
        "arr2=np.append(arr,[8,9,10])\n",
        "print(arr2)\n"
      ],
      "metadata": {
        "colab": {
          "base_uri": "https://localhost:8080/"
        },
        "id": "f9VrMmoauJEp",
        "outputId": "c4d371c1-cb5c-4095-d2b1-d73b21bbef6c"
      },
      "execution_count": 770,
      "outputs": [
        {
          "output_type": "stream",
          "name": "stdout",
          "text": [
            "[ 3  4  5  6  8  9 10]\n"
          ]
        }
      ]
    },
    {
      "cell_type": "code",
      "source": [
        "#deleting multple elements\n",
        "arr2=np.array([4,5,6,9,10,11])\n",
        "print(arr2)\n",
        "print('\\n')\n",
        "arr5=np.delete(arr2,[1,4])\n",
        "print(arr5)"
      ],
      "metadata": {
        "colab": {
          "base_uri": "https://localhost:8080/"
        },
        "id": "gpICub-9x0yQ",
        "outputId": "cd2a3831-5975-42d4-dc7e-e227bf23b537"
      },
      "execution_count": 771,
      "outputs": [
        {
          "output_type": "stream",
          "name": "stdout",
          "text": [
            "[ 4  5  6  9 10 11]\n",
            "\n",
            "\n",
            "[ 4  6  9 11]\n"
          ]
        }
      ]
    },
    {
      "cell_type": "code",
      "source": [
        "#concatinating\n",
        "arr1=np.array([[1,2,3,4],[6,7,8,9]])\n",
        "arr2=np.array([[11,12,13,14],[16,17,18,19]])\n",
        "cat=np.concatenate((arr1,arr2),axis=1)\n",
        "print(cat)"
      ],
      "metadata": {
        "colab": {
          "base_uri": "https://localhost:8080/"
        },
        "id": "NGSCCrWUuJGa",
        "outputId": "5950493c-fe0f-429d-d7d8-0db1ac94fd7d"
      },
      "execution_count": 772,
      "outputs": [
        {
          "output_type": "stream",
          "name": "stdout",
          "text": [
            "[[ 1  2  3  4 11 12 13 14]\n",
            " [ 6  7  8  9 16 17 18 19]]\n"
          ]
        }
      ]
    },
    {
      "cell_type": "code",
      "source": [
        ""
      ],
      "metadata": {
        "id": "oaYMj9-IuJIC"
      },
      "execution_count": 772,
      "outputs": []
    },
    {
      "cell_type": "code",
      "source": [
        ""
      ],
      "metadata": {
        "id": "LoPM4BoguJM6"
      },
      "execution_count": 772,
      "outputs": []
    },
    {
      "cell_type": "code",
      "source": [
        ""
      ],
      "metadata": {
        "id": "YdYczyRkuJPC"
      },
      "execution_count": 772,
      "outputs": []
    },
    {
      "cell_type": "code",
      "source": [
        ""
      ],
      "metadata": {
        "id": "Effi9Y9MuJQY"
      },
      "execution_count": 772,
      "outputs": []
    },
    {
      "cell_type": "code",
      "source": [
        ""
      ],
      "metadata": {
        "id": "4LvTe-STuJSK"
      },
      "execution_count": 772,
      "outputs": []
    },
    {
      "cell_type": "code",
      "source": [
        ""
      ],
      "metadata": {
        "id": "YhPleQfsuJTz"
      },
      "execution_count": 772,
      "outputs": []
    }
  ]
}